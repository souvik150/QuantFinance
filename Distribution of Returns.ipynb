{
 "cells": [
  {
   "cell_type": "code",
   "execution_count": 3,
   "id": "63d2e303-0270-4c32-9cfd-c32fb0157dfc",
   "metadata": {},
   "outputs": [],
   "source": [
    "# This is how we can check whether it returns are normally distributed or not also remmember this is the assumption of several models (Markowitz-model)."
   ]
  },
  {
   "cell_type": "code",
   "execution_count": 61,
   "id": "10c12d6e-21d9-488e-ac82-0391e47d4544",
   "metadata": {},
   "outputs": [],
   "source": [
    "import numpy as np\n",
    "import pandas as pd\n",
    "import yfinance as yf\n",
    "import matplotlib.pyplot as plt\n",
    "from scipy.stats import norm"
   ]
  },
  {
   "cell_type": "code",
   "execution_count": 63,
   "id": "0109fe3e-5af6-427d-87ec-8dd73c2e1c66",
   "metadata": {},
   "outputs": [],
   "source": [
    "stocks = ['^NSEI']\n",
    "start_date = '2024-01-01'\n",
    "end_date = '2024-12-25'"
   ]
  },
  {
   "cell_type": "code",
   "execution_count": 65,
   "id": "6f3d7932-9a90-4eee-9340-0e4c9a9f8cf3",
   "metadata": {},
   "outputs": [],
   "source": [
    "def download_data():\n",
    "    data = {}\n",
    "    for stock in stocks:\n",
    "        print(f\"Downloading data for {stock}...\")\n",
    "        ticker = yf.download(stock, start_date, end_date)\n",
    "        if 'Close' in ticker.columns:\n",
    "            data['Price'] = ticker['Close']\n",
    "        else:\n",
    "            print(f\"Warning: 'Close' data not available for {stock}\")\n",
    "    return pd.concat(data, axis=1)"
   ]
  },
  {
   "cell_type": "code",
   "execution_count": 67,
   "id": "63b61b20-ab4b-4d4d-a224-8e433566cdac",
   "metadata": {},
   "outputs": [
    {
     "name": "stderr",
     "output_type": "stream",
     "text": [
      "[*********************100%***********************]  1 of 1 completed"
     ]
    },
    {
     "name": "stdout",
     "output_type": "stream",
     "text": [
      "Downloading data for ^NSEI...\n"
     ]
    },
    {
     "name": "stderr",
     "output_type": "stream",
     "text": [
      "\n"
     ]
    },
    {
     "data": {
      "text/html": [
       "<div>\n",
       "<style scoped>\n",
       "    .dataframe tbody tr th:only-of-type {\n",
       "        vertical-align: middle;\n",
       "    }\n",
       "\n",
       "    .dataframe tbody tr th {\n",
       "        vertical-align: top;\n",
       "    }\n",
       "\n",
       "    .dataframe thead tr th {\n",
       "        text-align: left;\n",
       "    }\n",
       "\n",
       "    .dataframe thead tr:last-of-type th {\n",
       "        text-align: right;\n",
       "    }\n",
       "</style>\n",
       "<table border=\"1\" class=\"dataframe\">\n",
       "  <thead>\n",
       "    <tr>\n",
       "      <th></th>\n",
       "      <th>Price</th>\n",
       "    </tr>\n",
       "    <tr>\n",
       "      <th>Ticker</th>\n",
       "      <th>^NSEI</th>\n",
       "    </tr>\n",
       "    <tr>\n",
       "      <th>Date</th>\n",
       "      <th></th>\n",
       "    </tr>\n",
       "  </thead>\n",
       "  <tbody>\n",
       "    <tr>\n",
       "      <th>2024-01-01</th>\n",
       "      <td>21741.900391</td>\n",
       "    </tr>\n",
       "    <tr>\n",
       "      <th>2024-01-02</th>\n",
       "      <td>21665.800781</td>\n",
       "    </tr>\n",
       "    <tr>\n",
       "      <th>2024-01-03</th>\n",
       "      <td>21517.349609</td>\n",
       "    </tr>\n",
       "    <tr>\n",
       "      <th>2024-01-04</th>\n",
       "      <td>21658.599609</td>\n",
       "    </tr>\n",
       "    <tr>\n",
       "      <th>2024-01-05</th>\n",
       "      <td>21710.800781</td>\n",
       "    </tr>\n",
       "    <tr>\n",
       "      <th>...</th>\n",
       "      <td>...</td>\n",
       "    </tr>\n",
       "    <tr>\n",
       "      <th>2024-12-18</th>\n",
       "      <td>24198.849609</td>\n",
       "    </tr>\n",
       "    <tr>\n",
       "      <th>2024-12-19</th>\n",
       "      <td>23951.699219</td>\n",
       "    </tr>\n",
       "    <tr>\n",
       "      <th>2024-12-20</th>\n",
       "      <td>23587.500000</td>\n",
       "    </tr>\n",
       "    <tr>\n",
       "      <th>2024-12-23</th>\n",
       "      <td>23753.449219</td>\n",
       "    </tr>\n",
       "    <tr>\n",
       "      <th>2024-12-24</th>\n",
       "      <td>23727.650391</td>\n",
       "    </tr>\n",
       "  </tbody>\n",
       "</table>\n",
       "<p>242 rows × 1 columns</p>\n",
       "</div>"
      ],
      "text/plain": [
       "                   Price\n",
       "Ticker             ^NSEI\n",
       "Date                    \n",
       "2024-01-01  21741.900391\n",
       "2024-01-02  21665.800781\n",
       "2024-01-03  21517.349609\n",
       "2024-01-04  21658.599609\n",
       "2024-01-05  21710.800781\n",
       "...                  ...\n",
       "2024-12-18  24198.849609\n",
       "2024-12-19  23951.699219\n",
       "2024-12-20  23587.500000\n",
       "2024-12-23  23753.449219\n",
       "2024-12-24  23727.650391\n",
       "\n",
       "[242 rows x 1 columns]"
      ]
     },
     "execution_count": 67,
     "metadata": {},
     "output_type": "execute_result"
    }
   ],
   "source": [
    "stock_data = download_data()\n",
    "stock_data"
   ]
  },
  {
   "cell_type": "code",
   "execution_count": 69,
   "id": "c52d92e8-9726-4aa7-8861-1b5549c06b4c",
   "metadata": {},
   "outputs": [],
   "source": [
    "def calculate_returns(stock_data):\n",
    "    stock_data['Price'] = np.log(stock_data['Price'] / stock_data['Price'].shift(1))\n",
    "    return stock_data[1:]"
   ]
  },
  {
   "cell_type": "code",
   "execution_count": 105,
   "id": "672b259b-7a3a-48b7-8295-5d9a4f5ba990",
   "metadata": {},
   "outputs": [],
   "source": [
    "def show_plot(stock_data):\n",
    "    # normalize the histogram so that it aligns with the probability density function (PDF) \n",
    "    count, bins, _ = plt.hist(stock_data, bins=200, density=True, alpha=0.6, color='blue')\n",
    "\n",
    "    stock_mean = stock_data.mean()\n",
    "    stock_variance = stock_data.var()\n",
    "    sigma = np.sqrt(stock_variance)\n",
    "\n",
    "    x = np.linspace(stock_mean - 3 * sigma, stock_mean + 3 * sigma, 100)\n",
    "    plt.plot(x, norm.pdf(x, stock_mean, sigma), color='orange', lw=2)\n",
    "\n",
    "    plt.xlabel(\"Value\")\n",
    "    plt.ylabel(\"Density\")\n",
    "    plt.title(\"Stock Data with Fitted Normal Distribution\")\n",
    "    plt.show()"
   ]
  },
  {
   "cell_type": "code",
   "execution_count": 73,
   "id": "5a3a5db3-27ce-41e7-a6dd-7cdeb774f321",
   "metadata": {},
   "outputs": [],
   "source": [
    "log_daily_returns = calculate_returns(stock_data)"
   ]
  },
  {
   "cell_type": "code",
   "execution_count": 107,
   "id": "52f4be5e-9473-4782-8638-6fb6b9b0a0a2",
   "metadata": {},
   "outputs": [
    {
     "data": {
      "image/png": "[encoded data removed]",
      "text/plain": [
       "<Figure size 640x480 with 1 Axes>"
      ]
     },
     "metadata": {},
     "output_type": "display_data"
    }
   ],
   "source": [
    "show_plot(log_daily_returns)"
   ]
  },
  {
   "cell_type": "code",
   "execution_count": null,
   "id": "4b9bbcbe-5aa6-4bc0-8926-b2d13a38ab2b",
   "metadata": {},
   "outputs": [],
   "source": []
  }
 ],
 "metadata": {
  "kernelspec": {
   "display_name": "Python 3 (ipykernel)",
   "language": "python",
   "name": "python3"
  },
  "language_info": {
   "codemirror_mode": {
    "name": "ipython",
    "version": 3
   },
   "file_extension": ".py",
   "mimetype": "text/x-python",
   "name": "python",
   "nbconvert_exporter": "python",
   "pygments_lexer": "ipython3",
   "version": "3.12.3"
  }
 },
 "nbformat": 4,
 "nbformat_minor": 5
}
