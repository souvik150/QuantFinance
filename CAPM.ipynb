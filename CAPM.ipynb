{
 "cells": [
  {
   "cell_type": "code",
   "execution_count": 3,
   "id": "7a111fcb-cde8-4172-bccf-121d8ef594e1",
   "metadata": {},
   "outputs": [],
   "source": [
    "# Capital Asset Pricing Model"
   ]
  },
  {
   "cell_type": "code",
   "execution_count": 167,
   "id": "7f9e6510-dfcb-4c17-a491-9625c314e08a",
   "metadata": {},
   "outputs": [],
   "source": [
    "import numpy as np\n",
    "import pandas as pd\n",
    "import yfinance as yf\n",
    "import matplotlib.pyplot as plt"
   ]
  },
  {
   "cell_type": "code",
   "execution_count": 169,
   "id": "d70dcd9e-7753-45e7-82f0-a92800ba68b9",
   "metadata": {},
   "outputs": [],
   "source": [
    "# market interest rate\n",
    "RISK_FREE_RATE = 0.05\n",
    "# we will consider monthly returns - and we want to calculate the annual return\n",
    "MONTHS_IN_YEAR = 12"
   ]
  },
  {
   "cell_type": "code",
   "execution_count": 171,
   "id": "0dbfcef2-ff29-4d9e-b748-249289138d9e",
   "metadata": {},
   "outputs": [],
   "source": [
    "stocks = ['IBM', '^GSPC']\n",
    "start_date = '2010-01-01'\n",
    "end_date = '2017-01-01'\n",
    "\n",
    "def download_data():\n",
    "    data = {}\n",
    "    for stock in stocks:\n",
    "        print(f\"Downloading data for {stock}...\")\n",
    "        ticker = yf.download(stock, start_date, end_date)\n",
    "        if 'Close' in ticker.columns:\n",
    "            data[stock] = ticker['Close']\n",
    "        else:\n",
    "            print(f\"Warning: 'Close' data not available for {stock}\")\n",
    "    return pd.concat(data, axis=1)"
   ]
  },
  {
   "cell_type": "code",
   "execution_count": 173,
   "id": "21069aa2-0041-4814-b3cc-dc912bec5fe3",
   "metadata": {},
   "outputs": [
    {
     "name": "stderr",
     "output_type": "stream",
     "text": [
      "[*********************100%***********************]  1 of 1 completed\n",
      "[*********************100%***********************]  1 of 1 completed"
     ]
    },
    {
     "name": "stdout",
     "output_type": "stream",
     "text": [
      "Downloading data for IBM...\n",
      "Downloading data for ^GSPC...\n",
      "Flattened Columns in stock_data: Index(['IBM', '^GSPC'], dtype='object', name='Ticker')\n"
     ]
    },
    {
     "name": "stderr",
     "output_type": "stream",
     "text": [
      "\n",
      "C:\\Users\\souvi\\AppData\\Local\\Temp\\ipykernel_28412\\1504341004.py:5: FutureWarning: 'M' is deprecated and will be removed in a future version, please use 'ME' instead.\n",
      "  stock_data = stock_data.resample('M').last()\n"
     ]
    }
   ],
   "source": [
    "stock_data = download_data()\n",
    "\n",
    "stock_data.columns = stock_data.columns.get_level_values(1)\n",
    "print(\"Flattened Columns in stock_data:\", stock_data.columns)\n",
    "stock_data = stock_data.resample('M').last()"
   ]
  },
  {
   "cell_type": "code",
   "execution_count": 175,
   "id": "02f3cb99-bf5b-432e-967b-46c81272e7d5",
   "metadata": {},
   "outputs": [
    {
     "name": "stdout",
     "output_type": "stream",
     "text": [
      "Ticker            IBM        ^GSPC\n",
      "Date                              \n",
      "2010-01-31  69.630424  1073.869995\n",
      "2010-02-28  72.667778  1104.489990\n",
      "2010-03-31  73.290649  1169.430054\n",
      "2010-04-30  73.719238  1186.689941\n",
      "2010-05-31  71.948891  1089.410034\n"
     ]
    }
   ],
   "source": [
    "print(stock_data.head())"
   ]
  },
  {
   "cell_type": "code",
   "execution_count": 177,
   "id": "0223d8fe-4636-4316-904e-6e87c084e4b7",
   "metadata": {},
   "outputs": [],
   "source": [
    "data = pd.DataFrame({\n",
    "    's_adjclose': stock_data[stocks[0]],\n",
    "    'm_adjclose': stock_data[stocks[1]]\n",
    "})"
   ]
  },
  {
   "cell_type": "code",
   "execution_count": 179,
   "id": "71c7f198-e793-4b6d-93c1-68b4fe9f16ca",
   "metadata": {},
   "outputs": [],
   "source": [
    "# normalization log(n+1/n) [2/1, 3/2, .....]\n",
    "data[['s_returns', 'm_returns']] = np.log(data[['s_adjclose', 'm_adjclose']] /\n",
    "                                                       data[['s_adjclose', 'm_adjclose']].shift(1))"
   ]
  },
  {
   "cell_type": "code",
   "execution_count": 181,
   "id": "316d39ca-b31d-46cb-9b95-6fd00309025e",
   "metadata": {},
   "outputs": [
    {
     "data": {
      "text/html": [
       "<div>\n",
       "<style scoped>\n",
       "    .dataframe tbody tr th:only-of-type {\n",
       "        vertical-align: middle;\n",
       "    }\n",
       "\n",
       "    .dataframe tbody tr th {\n",
       "        vertical-align: top;\n",
       "    }\n",
       "\n",
       "    .dataframe thead th {\n",
       "        text-align: right;\n",
       "    }\n",
       "</style>\n",
       "<table border=\"1\" class=\"dataframe\">\n",
       "  <thead>\n",
       "    <tr style=\"text-align: right;\">\n",
       "      <th></th>\n",
       "      <th>s_adjclose</th>\n",
       "      <th>m_adjclose</th>\n",
       "      <th>s_returns</th>\n",
       "      <th>m_returns</th>\n",
       "    </tr>\n",
       "    <tr>\n",
       "      <th>Date</th>\n",
       "      <th></th>\n",
       "      <th></th>\n",
       "      <th></th>\n",
       "      <th></th>\n",
       "    </tr>\n",
       "  </thead>\n",
       "  <tbody>\n",
       "    <tr>\n",
       "      <th>2010-01-31</th>\n",
       "      <td>69.630424</td>\n",
       "      <td>1073.869995</td>\n",
       "      <td>NaN</td>\n",
       "      <td>NaN</td>\n",
       "    </tr>\n",
       "    <tr>\n",
       "      <th>2010-02-28</th>\n",
       "      <td>72.667778</td>\n",
       "      <td>1104.489990</td>\n",
       "      <td>0.042696</td>\n",
       "      <td>0.028115</td>\n",
       "    </tr>\n",
       "    <tr>\n",
       "      <th>2010-03-31</th>\n",
       "      <td>73.290649</td>\n",
       "      <td>1169.430054</td>\n",
       "      <td>0.008535</td>\n",
       "      <td>0.057133</td>\n",
       "    </tr>\n",
       "    <tr>\n",
       "      <th>2010-04-30</th>\n",
       "      <td>73.719238</td>\n",
       "      <td>1186.689941</td>\n",
       "      <td>0.005831</td>\n",
       "      <td>0.014651</td>\n",
       "    </tr>\n",
       "    <tr>\n",
       "      <th>2010-05-31</th>\n",
       "      <td>71.948891</td>\n",
       "      <td>1089.410034</td>\n",
       "      <td>-0.024308</td>\n",
       "      <td>-0.085532</td>\n",
       "    </tr>\n",
       "    <tr>\n",
       "      <th>...</th>\n",
       "      <td>...</td>\n",
       "      <td>...</td>\n",
       "      <td>...</td>\n",
       "      <td>...</td>\n",
       "    </tr>\n",
       "    <tr>\n",
       "      <th>2016-08-31</th>\n",
       "      <td>105.663994</td>\n",
       "      <td>2170.949951</td>\n",
       "      <td>-0.002292</td>\n",
       "      <td>-0.001220</td>\n",
       "    </tr>\n",
       "    <tr>\n",
       "      <th>2016-09-30</th>\n",
       "      <td>105.644035</td>\n",
       "      <td>2168.270020</td>\n",
       "      <td>-0.000189</td>\n",
       "      <td>-0.001235</td>\n",
       "    </tr>\n",
       "    <tr>\n",
       "      <th>2016-10-31</th>\n",
       "      <td>102.212357</td>\n",
       "      <td>2126.149902</td>\n",
       "      <td>-0.033023</td>\n",
       "      <td>-0.019617</td>\n",
       "    </tr>\n",
       "    <tr>\n",
       "      <th>2016-11-30</th>\n",
       "      <td>108.864014</td>\n",
       "      <td>2198.810059</td>\n",
       "      <td>0.063047</td>\n",
       "      <td>0.033604</td>\n",
       "    </tr>\n",
       "    <tr>\n",
       "      <th>2016-12-31</th>\n",
       "      <td>111.394028</td>\n",
       "      <td>2238.830078</td>\n",
       "      <td>0.022974</td>\n",
       "      <td>0.018037</td>\n",
       "    </tr>\n",
       "  </tbody>\n",
       "</table>\n",
       "<p>84 rows × 4 columns</p>\n",
       "</div>"
      ],
      "text/plain": [
       "            s_adjclose   m_adjclose  s_returns  m_returns\n",
       "Date                                                     \n",
       "2010-01-31   69.630424  1073.869995        NaN        NaN\n",
       "2010-02-28   72.667778  1104.489990   0.042696   0.028115\n",
       "2010-03-31   73.290649  1169.430054   0.008535   0.057133\n",
       "2010-04-30   73.719238  1186.689941   0.005831   0.014651\n",
       "2010-05-31   71.948891  1089.410034  -0.024308  -0.085532\n",
       "...                ...          ...        ...        ...\n",
       "2016-08-31  105.663994  2170.949951  -0.002292  -0.001220\n",
       "2016-09-30  105.644035  2168.270020  -0.000189  -0.001235\n",
       "2016-10-31  102.212357  2126.149902  -0.033023  -0.019617\n",
       "2016-11-30  108.864014  2198.810059   0.063047   0.033604\n",
       "2016-12-31  111.394028  2238.830078   0.022974   0.018037\n",
       "\n",
       "[84 rows x 4 columns]"
      ]
     },
     "execution_count": 181,
     "metadata": {},
     "output_type": "execute_result"
    }
   ],
   "source": [
    "data"
   ]
  },
  {
   "cell_type": "code",
   "execution_count": 183,
   "id": "d4f294ab-8cb3-4bd6-9677-3bb28edde8e1",
   "metadata": {},
   "outputs": [
    {
     "data": {
      "text/html": [
       "<div>\n",
       "<style scoped>\n",
       "    .dataframe tbody tr th:only-of-type {\n",
       "        vertical-align: middle;\n",
       "    }\n",
       "\n",
       "    .dataframe tbody tr th {\n",
       "        vertical-align: top;\n",
       "    }\n",
       "\n",
       "    .dataframe thead th {\n",
       "        text-align: right;\n",
       "    }\n",
       "</style>\n",
       "<table border=\"1\" class=\"dataframe\">\n",
       "  <thead>\n",
       "    <tr style=\"text-align: right;\">\n",
       "      <th></th>\n",
       "      <th>s_adjclose</th>\n",
       "      <th>m_adjclose</th>\n",
       "      <th>s_returns</th>\n",
       "      <th>m_returns</th>\n",
       "    </tr>\n",
       "    <tr>\n",
       "      <th>Date</th>\n",
       "      <th></th>\n",
       "      <th></th>\n",
       "      <th></th>\n",
       "      <th></th>\n",
       "    </tr>\n",
       "  </thead>\n",
       "  <tbody>\n",
       "    <tr>\n",
       "      <th>2010-02-28</th>\n",
       "      <td>72.667778</td>\n",
       "      <td>1104.489990</td>\n",
       "      <td>0.042696</td>\n",
       "      <td>0.028115</td>\n",
       "    </tr>\n",
       "    <tr>\n",
       "      <th>2010-03-31</th>\n",
       "      <td>73.290649</td>\n",
       "      <td>1169.430054</td>\n",
       "      <td>0.008535</td>\n",
       "      <td>0.057133</td>\n",
       "    </tr>\n",
       "    <tr>\n",
       "      <th>2010-04-30</th>\n",
       "      <td>73.719238</td>\n",
       "      <td>1186.689941</td>\n",
       "      <td>0.005831</td>\n",
       "      <td>0.014651</td>\n",
       "    </tr>\n",
       "    <tr>\n",
       "      <th>2010-05-31</th>\n",
       "      <td>71.948891</td>\n",
       "      <td>1089.410034</td>\n",
       "      <td>-0.024308</td>\n",
       "      <td>-0.085532</td>\n",
       "    </tr>\n",
       "    <tr>\n",
       "      <th>2010-06-30</th>\n",
       "      <td>70.926476</td>\n",
       "      <td>1030.709961</td>\n",
       "      <td>-0.014312</td>\n",
       "      <td>-0.055388</td>\n",
       "    </tr>\n",
       "    <tr>\n",
       "      <th>...</th>\n",
       "      <td>...</td>\n",
       "      <td>...</td>\n",
       "      <td>...</td>\n",
       "      <td>...</td>\n",
       "    </tr>\n",
       "    <tr>\n",
       "      <th>2016-08-31</th>\n",
       "      <td>105.663994</td>\n",
       "      <td>2170.949951</td>\n",
       "      <td>-0.002292</td>\n",
       "      <td>-0.001220</td>\n",
       "    </tr>\n",
       "    <tr>\n",
       "      <th>2016-09-30</th>\n",
       "      <td>105.644035</td>\n",
       "      <td>2168.270020</td>\n",
       "      <td>-0.000189</td>\n",
       "      <td>-0.001235</td>\n",
       "    </tr>\n",
       "    <tr>\n",
       "      <th>2016-10-31</th>\n",
       "      <td>102.212357</td>\n",
       "      <td>2126.149902</td>\n",
       "      <td>-0.033023</td>\n",
       "      <td>-0.019617</td>\n",
       "    </tr>\n",
       "    <tr>\n",
       "      <th>2016-11-30</th>\n",
       "      <td>108.864014</td>\n",
       "      <td>2198.810059</td>\n",
       "      <td>0.063047</td>\n",
       "      <td>0.033604</td>\n",
       "    </tr>\n",
       "    <tr>\n",
       "      <th>2016-12-31</th>\n",
       "      <td>111.394028</td>\n",
       "      <td>2238.830078</td>\n",
       "      <td>0.022974</td>\n",
       "      <td>0.018037</td>\n",
       "    </tr>\n",
       "  </tbody>\n",
       "</table>\n",
       "<p>83 rows × 4 columns</p>\n",
       "</div>"
      ],
      "text/plain": [
       "            s_adjclose   m_adjclose  s_returns  m_returns\n",
       "Date                                                     \n",
       "2010-02-28   72.667778  1104.489990   0.042696   0.028115\n",
       "2010-03-31   73.290649  1169.430054   0.008535   0.057133\n",
       "2010-04-30   73.719238  1186.689941   0.005831   0.014651\n",
       "2010-05-31   71.948891  1089.410034  -0.024308  -0.085532\n",
       "2010-06-30   70.926476  1030.709961  -0.014312  -0.055388\n",
       "...                ...          ...        ...        ...\n",
       "2016-08-31  105.663994  2170.949951  -0.002292  -0.001220\n",
       "2016-09-30  105.644035  2168.270020  -0.000189  -0.001235\n",
       "2016-10-31  102.212357  2126.149902  -0.033023  -0.019617\n",
       "2016-11-30  108.864014  2198.810059   0.063047   0.033604\n",
       "2016-12-31  111.394028  2238.830078   0.022974   0.018037\n",
       "\n",
       "[83 rows x 4 columns]"
      ]
     },
     "execution_count": 183,
     "metadata": {},
     "output_type": "execute_result"
    }
   ],
   "source": [
    "data = data[1:]\n",
    "data"
   ]
  },
  {
   "cell_type": "code",
   "execution_count": 185,
   "id": "b358b653-b33b-4f70-b34c-23ddefe7a158",
   "metadata": {},
   "outputs": [
    {
     "name": "stdout",
     "output_type": "stream",
     "text": [
      "Beta from formula:  0.7135079824831144\n"
     ]
    }
   ],
   "source": [
    "# covariance matrix: the diagonal items are the variances\n",
    "# off diagonals are the covariances\n",
    "# the matrix is symmetric: cov[0,1] = cov[1,0] !!!\n",
    "covariance_matrix = np.cov(data[\"s_returns\"], data[\"m_returns\"])\n",
    "# calculating beta according to the formula\n",
    "beta = covariance_matrix[0, 1] / covariance_matrix[1, 1]\n",
    "print(\"Beta from formula: \", beta)"
   ]
  },
  {
   "cell_type": "code",
   "execution_count": 201,
   "id": "fb1b09e7-f2b9-4db5-8789-10e29944adf4",
   "metadata": {},
   "outputs": [
    {
     "data": {
      "text/plain": [
       "array([[0.00230049, 0.00093755],\n",
       "       [0.00093755, 0.00131399]])"
      ]
     },
     "execution_count": 201,
     "metadata": {},
     "output_type": "execute_result"
    }
   ],
   "source": [
    "covariance_matrix"
   ]
  },
  {
   "cell_type": "code",
   "execution_count": 203,
   "id": "0eadba28-7693-4327-90cc-5f0f21a78980",
   "metadata": {},
   "outputs": [
    {
     "data": {
      "text/plain": [
       "0.7135138014748971"
      ]
     },
     "execution_count": 203,
     "metadata": {},
     "output_type": "execute_result"
    }
   ],
   "source": [
    "res = 0.00093755/0.00131399\n",
    "res"
   ]
  },
  {
   "cell_type": "code",
   "execution_count": 197,
   "id": "00340dc3-d391-4bdb-a4d1-567450e74e9e",
   "metadata": {},
   "outputs": [],
   "source": [
    "def plot_regression(alpha, beta):\n",
    "        fig, axis = plt.subplots(1, figsize=(20, 10))\n",
    "        axis.scatter(data[\"m_returns\"], data['s_returns'],\n",
    "                     label=\"Data Points\")\n",
    "        axis.plot(data[\"m_returns\"], beta * data[\"m_returns\"] + alpha,\n",
    "                  color='red', label=\"CAPM Line\")\n",
    "        plt.title('Capital Asset Pricing Model, finding alpha and beta')\n",
    "        plt.xlabel('Market return $R_m$', fontsize=18)\n",
    "        plt.ylabel('Stock return $R_a$')\n",
    "        plt.text(0.08, 0.05, r'$R_a = \\beta * R_m + \\alpha$', fontsize=18)\n",
    "        plt.legend()\n",
    "        plt.grid(True)\n",
    "        plt.show()"
   ]
  },
  {
   "cell_type": "code",
   "execution_count": 199,
   "id": "c29b2dfb-921a-4e45-8b46-bc52f878992e",
   "metadata": {},
   "outputs": [
    {
     "name": "stdout",
     "output_type": "stream",
     "text": [
      "Beta from regression:  0.7135079824831143\n",
      "Expected return:  0.0901130234911133\n"
     ]
    },
    {
     "data": {
      "image/png": "[encoded data removed]",
      "text/plain": [
       "<Figure size 2000x1000 with 1 Axes>"
      ]
     },
     "metadata": {},
     "output_type": "display_data"
    }
   ],
   "source": [
    "# using linear regression to fit a line to the data\n",
    "# [stock_returns, market_returns] - slope is the beta\n",
    "beta, alpha = np.polyfit(data['m_returns'], data['s_returns'], deg=1)\n",
    "print(\"Beta from regression: \", beta)\n",
    "# calculate the expected return according to the CAPM formula\n",
    "# we are after annual return (this is why multiply by 12)\n",
    "expected_return = RISK_FREE_RATE + beta * (data['m_returns'].mean()*MONTHS_IN_YEAR\n",
    "                                           - RISK_FREE_RATE)\n",
    "print(\"Expected return: \", expected_return)\n",
    "plot_regression(alpha, beta)"
   ]
  },
  {
   "cell_type": "code",
   "execution_count": null,
   "id": "4dbeb7a7-e8f1-4419-806a-82c8c8dfde33",
   "metadata": {},
   "outputs": [],
   "source": []
  }
 ],
 "metadata": {
  "kernelspec": {
   "display_name": "Python 3 (ipykernel)",
   "language": "python",
   "name": "python3"
  },
  "language_info": {
   "codemirror_mode": {
    "name": "ipython",
    "version": 3
   },
   "file_extension": ".py",
   "mimetype": "text/x-python",
   "name": "python",
   "nbconvert_exporter": "python",
   "pygments_lexer": "ipython3",
   "version": "3.12.3"
  }
 },
 "nbformat": 4,
 "nbformat_minor": 5
}
